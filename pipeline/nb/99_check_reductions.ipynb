{
 "cells": [
  {
   "cell_type": "code",
   "execution_count": 1,
   "metadata": {},
   "outputs": [],
   "source": [
    "from astropy.io import fits\n",
    "import glob\n",
    "from astropy.io import ascii\n",
    "import os\n",
    "import numpy as np\n",
    "from astropy.table import Table\n",
    "import matplotlib.pyplot as plt"
   ]
  },
  {
   "cell_type": "code",
   "execution_count": 2,
   "metadata": {},
   "outputs": [],
   "source": [
    "datadir = '/n/holyscratch01/conroy_lab/vchandra/mage/'\n",
    "#datadir = '/n/holystore01/LABS/conroy_lab/Lab/vchandra/mage/'"
   ]
  },
  {
   "cell_type": "code",
   "execution_count": 3,
   "metadata": {},
   "outputs": [],
   "source": [
    "allnights = glob.glob(datadir + 'data/*')"
   ]
  },
  {
   "cell_type": "code",
   "execution_count": 4,
   "metadata": {},
   "outputs": [],
   "source": [
    "nights = [];\n",
    "for path in allnights:\n",
    "    night = os.path.basename(path)\n",
    "\n",
    "    if 'b' not in night and '202' in night:\n",
    "        nights.append(night)\n",
    "\n",
    "nights = np.sort(nights)"
   ]
  },
  {
   "cell_type": "code",
   "execution_count": 5,
   "metadata": {},
   "outputs": [
    {
     "data": {
      "text/plain": [
       "array(['2022_08_03', '2022_08_04', '2022_08_05', '2022_08_24',\n",
       "       '2022_10_21', '2022_11_03', '2022_12_18', '2022_12_19',\n",
       "       '2023_01_29', '2023_02_07', '2023_02_08', '2023_03_06',\n",
       "       '2023_03_12', '2023_03_28', '2023_04_29', '2023_04_30',\n",
       "       '2023_05_29', '2023_06_11', '2023_08_16', '2023_10_13',\n",
       "       '2023_11_05', '2023_12_03', '2023_12_12', '2023_12_20',\n",
       "       '2024_02_25', '2024_03_18'], dtype='<U10')"
      ]
     },
     "execution_count": 5,
     "metadata": {},
     "output_type": "execute_result"
    }
   ],
   "source": [
    "nights"
   ]
  },
  {
   "cell_type": "code",
   "execution_count": 6,
   "metadata": {},
   "outputs": [
    {
     "name": "stdout",
     "output_type": "stream",
     "text": [
      "====================\n",
      "2022_08_03\n",
      "there are 21 unique science targets and 18 coadded spectra\n",
      "j2045m1858 is a science target without a reduced, coadded spectrum!\n",
      "j2224p0647 is a science target without a reduced, coadded spectrum!\n",
      "j2334m2043 is a science target without a reduced, coadded spectrum!\n",
      "====================\n",
      "2022_08_04\n",
      "there are 25 unique science targets and 25 coadded spectra\n",
      "====================\n",
      "2022_08_05\n",
      "there are 17 unique science targets and 16 coadded spectra\n",
      "j2203p0725 is a science target without a reduced, coadded spectrum!\n",
      "====================\n",
      "2022_08_24\n",
      "there are 22 unique science targets and 22 coadded spectra\n",
      "====================\n",
      "2022_10_21\n",
      "there are 21 unique science targets and 21 coadded spectra\n",
      "====================\n",
      "2022_11_03\n",
      "there are 31 unique science targets and 29 coadded spectra\n",
      "j0501m0512 is a science target without a reduced, coadded spectrum!\n",
      "j2312m6922 is a science target without a reduced, coadded spectrum!\n",
      "====================\n",
      "2022_12_18\n",
      "there are 26 unique science targets and 0 coadded spectra\n",
      "hip108327 is a science target without a reduced, coadded spectrum!\n",
      "hip109822 is a science target without a reduced, coadded spectrum!\n",
      "j0003m0254 is a science target without a reduced, coadded spectrum!\n",
      "j0033p0951 is a science target without a reduced, coadded spectrum!\n",
      "j0035p0108 is a science target without a reduced, coadded spectrum!\n",
      "j0037m0235 is a science target without a reduced, coadded spectrum!\n",
      "j0059m0234 is a science target without a reduced, coadded spectrum!\n",
      "j0121m0459 is a science target without a reduced, coadded spectrum!\n",
      "j0126m0554 is a science target without a reduced, coadded spectrum!\n",
      "j0203p0359 is a science target without a reduced, coadded spectrum!\n",
      "j0232p0535 is a science target without a reduced, coadded spectrum!\n",
      "j0233p0332 is a science target without a reduced, coadded spectrum!\n",
      "j0358m3711 is a science target without a reduced, coadded spectrum!\n",
      "j0513m3627 is a science target without a reduced, coadded spectrum!\n",
      "j0513m4234 is a science target without a reduced, coadded spectrum!\n",
      "j0537m3705 is a science target without a reduced, coadded spectrum!\n",
      "j0538m3941 is a science target without a reduced, coadded spectrum!\n",
      "j0543m2900 is a science target without a reduced, coadded spectrum!\n",
      "j0601m4556 is a science target without a reduced, coadded spectrum!\n",
      "j0610m4416 is a science target without a reduced, coadded spectrum!\n",
      "j0612m2725 is a science target without a reduced, coadded spectrum!\n",
      "j0613m3236 is a science target without a reduced, coadded spectrum!\n",
      "j0820p0911 is a science target without a reduced, coadded spectrum!\n",
      "j0854m0737 is a science target without a reduced, coadded spectrum!\n",
      "j0858m0132 is a science target without a reduced, coadded spectrum!\n",
      "j0910m1146 is a science target without a reduced, coadded spectrum!\n",
      "====================\n",
      "2022_12_19\n",
      "there are 32 unique science targets and 30 coadded spectra\n",
      "j0837p0205 is a science target without a reduced, coadded spectrum!\n",
      "j2336m1758 is a science target without a reduced, coadded spectrum!\n",
      "====================\n",
      "2023_01_29\n",
      "there are 25 unique science targets and 24 coadded spectra\n",
      "j1128m3427 is a science target without a reduced, coadded spectrum!\n",
      "====================\n",
      "2023_02_07\n",
      "there are 28 unique science targets and 25 coadded spectra\n",
      "j0136p0911 is a science target without a reduced, coadded spectrum!\n",
      "j0826m8221 is a science target without a reduced, coadded spectrum!\n",
      "j1039m0635 is a science target without a reduced, coadded spectrum!\n",
      "====================\n",
      "2023_02_08\n",
      "there are 29 unique science targets and 28 coadded spectra\n",
      "j1256m1240 is a science target without a reduced, coadded spectrum!\n",
      "====================\n",
      "2023_03_06\n",
      "there are 24 unique science targets and 21 coadded spectra\n",
      "j0851m603 is a science target without a reduced, coadded spectrum!\n",
      "j0918m1148 is a science target without a reduced, coadded spectrum!\n",
      "j1907m2926 is a science target without a reduced, coadded spectrum!\n",
      "====================\n",
      "2023_03_12\n",
      "there are 20 unique science targets and 20 coadded spectra\n",
      "====================\n",
      "2023_03_28\n",
      "there are 22 unique science targets and 21 coadded spectra\n",
      "j1417m3228 is a science target without a reduced, coadded spectrum!\n",
      "====================\n",
      "2023_04_29\n",
      "there are 18 unique science targets and 17 coadded spectra\n",
      "j1034m2113 is a science target without a reduced, coadded spectrum!\n",
      "====================\n",
      "2023_04_30\n",
      "there are 20 unique science targets and 20 coadded spectra\n",
      "====================\n",
      "2023_05_29\n",
      "there are 4 unique science targets and 4 coadded spectra\n",
      "====================\n",
      "2023_06_11\n",
      "there are 27 unique science targets and 27 coadded spectra\n",
      "====================\n",
      "2023_08_16\n",
      "there are 24 unique science targets and 24 coadded spectra\n",
      "====================\n",
      "2023_10_13\n",
      "there are 23 unique science targets and 22 coadded spectra\n",
      "j2241m1102 is a science target without a reduced, coadded spectrum!\n",
      "====================\n",
      "2023_11_05\n",
      "there are 21 unique science targets and 20 coadded spectra\n",
      "j0007m5701 is a science target without a reduced, coadded spectrum!\n",
      "====================\n",
      "2023_12_03\n",
      "there are 8 unique science targets and 8 coadded spectra\n",
      "====================\n",
      "2023_12_12\n",
      "there are 21 unique science targets and 20 coadded spectra\n",
      "j1022m2306 is a science target without a reduced, coadded spectrum!\n",
      "====================\n",
      "2023_12_20\n",
      "there are 21 unique science targets and 0 coadded spectra\n",
      "hip17946 is a science target without a reduced, coadded spectrum!\n",
      "j0050m5253 is a science target without a reduced, coadded spectrum!\n",
      "j0137m6241 is a science target without a reduced, coadded spectrum!\n",
      "j0332p0734 is a science target without a reduced, coadded spectrum!\n",
      "j0400m5720 is a science target without a reduced, coadded spectrum!\n",
      "j0445m4551 is a science target without a reduced, coadded spectrum!\n",
      "j0525m5151 is a science target without a reduced, coadded spectrum!\n",
      "j0527m2928 is a science target without a reduced, coadded spectrum!\n",
      "j0527m3553 is a science target without a reduced, coadded spectrum!\n",
      "j0825p0024 is a science target without a reduced, coadded spectrum!\n",
      "j0844p0101 is a science target without a reduced, coadded spectrum!\n",
      "j0853m0006 is a science target without a reduced, coadded spectrum!\n",
      "j0932m0314 is a science target without a reduced, coadded spectrum!\n",
      "j1032m1948 is a science target without a reduced, coadded spectrum!\n",
      "j2213m3406 is a science target without a reduced, coadded spectrum!\n",
      "j2223m2527 is a science target without a reduced, coadded spectrum!\n",
      "j2231m1250 is a science target without a reduced, coadded spectrum!\n",
      "j2235m4414 is a science target without a reduced, coadded spectrum!\n",
      "j2246m2731 is a science target without a reduced, coadded spectrum!\n",
      "j2308m5512 is a science target without a reduced, coadded spectrum!\n",
      "j2353m5409 is a science target without a reduced, coadded spectrum!\n",
      "====================\n",
      "2024_02_25\n",
      "there are 36 unique science targets and 36 coadded spectra\n",
      "====================\n",
      "2024_03_18\n",
      "there are 45 unique science targets and 44 coadded spectra\n",
      "j1339p0300 is a science target without a reduced, coadded spectrum!\n"
     ]
    }
   ],
   "source": [
    "rows = [];\n",
    "\n",
    "for night in nights:\n",
    "\n",
    "    print('==' * 10)\n",
    "    print(night)\n",
    "    ndir = datadir + 'data/' + night + '/'\n",
    "    obslog = ascii.read(ndir + 'raw/obslog_edited.txt', format = 'fixed_width')\n",
    "    sci = obslog['frametype'] == 'science'\n",
    "    scitargets = np.unique(obslog['target'][sci])\n",
    "    N_sci = len(scitargets)\n",
    "    coadds = glob.glob(ndir + 'reduced_v0/magellan_mage_A/Science/coadd/*fits')\n",
    "    coadd_names = [path.split('/')[-1].split('_')[0] for path in coadds]\n",
    "    N_coadd = len(coadds)\n",
    "    print('there are %i unique science targets and %i coadded spectra' % (N_sci, N_coadd))\n",
    "    for target in scitargets:\n",
    "        if target not in coadd_names:\n",
    "            print('%s is a science target without a reduced, coadded spectrum!' % target)\n",
    "\n",
    "    N_missing = N_sci - N_coadd\n",
    "\n",
    "    out = {};\n",
    "\n",
    "    out['night'] = night\n",
    "    out['N_sci'] = N_sci\n",
    "    out['N_coadd'] = N_coadd\n",
    "    out['N_missing'] = N_missing\n",
    "\n",
    "    rows.append(out)"
   ]
  },
  {
   "cell_type": "code",
   "execution_count": 7,
   "metadata": {},
   "outputs": [],
   "source": [
    "tab = Table(rows)"
   ]
  },
  {
   "cell_type": "code",
   "execution_count": 10,
   "metadata": {},
   "outputs": [
    {
     "data": {
      "text/plain": [
       "542"
      ]
     },
     "execution_count": 10,
     "metadata": {},
     "output_type": "execute_result"
    }
   ],
   "source": [
    "np.sum(tab['N_coadd'])"
   ]
  },
  {
   "cell_type": "code",
   "execution_count": 8,
   "metadata": {},
   "outputs": [
    {
     "data": {
      "text/plain": [
       "Text(0, 0.5, 'fraction missing')"
      ]
     },
     "execution_count": 8,
     "metadata": {},
     "output_type": "execute_result"
    },
    {
     "data": {
      "image/png": "[encoded data removed]",
      "text/plain": [
       "<Figure size 1440x360 with 1 Axes>"
      ]
     },
     "metadata": {
      "needs_background": "light"
     },
     "output_type": "display_data"
    }
   ],
   "source": [
    "plt.figure(figsize = (20, 5))\n",
    "plt.bar(tab['night'], tab['N_missing'] / tab['N_sci'])\n",
    "plt.xticks(rotation = 45,  ha = 'right');\n",
    "plt.ylabel('fraction missing')"
   ]
  },
  {
   "cell_type": "markdown",
   "metadata": {},
   "source": [
    "## Check Sensitivity Functions"
   ]
  },
  {
   "cell_type": "code",
   "execution_count": 15,
   "metadata": {},
   "outputs": [],
   "source": [
    "import pprint\n",
    "import numpy.lib.recfunctions as rfn"
   ]
  },
  {
   "cell_type": "code",
   "execution_count": 16,
   "metadata": {},
   "outputs": [],
   "source": [
    "#sensfile = datadir + 'data/%s/reduced_v0/magellan_mage_A/Science/sensfunc.fits' % night\n",
    "stdfile = '/n/holyscratch01/conroy_lab/vchandra/mage/data/2022_12_18/reduced_v0/magellan_mage_A/Science/spec1d_mage0063-hip108327_MagE_20221219T002909.000.fits'"
   ]
  },
  {
   "cell_type": "code",
   "execution_count": 17,
   "metadata": {},
   "outputs": [],
   "source": [
    "import pandas as pd"
   ]
  },
  {
   "cell_type": "code",
   "execution_count": 18,
   "metadata": {},
   "outputs": [
    {
     "name": "stdout",
     "output_type": "stream",
     "text": [
      "OBJ0448-DET01-ORDER0017\n",
      "OBJ0448-DET01-ORDER0016\n",
      "OBJ0448-DET01-ORDER0015\n",
      "OBJ0448-DET01-ORDER0014\n",
      "OBJ0448-DET01-ORDER0013\n",
      "OBJ0448-DET01-ORDER0012\n",
      "OBJ0448-DET01-ORDER0011\n",
      "OBJ0448-DET01-ORDER0010\n",
      "OBJ0448-DET01-ORDER0009\n",
      "OBJ0448-DET01-ORDER0008\n",
      "OBJ0448-DET01-ORDER0007\n",
      "OBJ0448-DET01-ORDER0006\n",
      "WORKING ON ORDER OBJ0448-DET01-ORDER0006\n",
      "opt in name\n",
      "opt in name\n",
      "opt in name\n",
      "opt in name\n",
      "opt in name\n",
      "opt in name\n",
      "opt in name\n",
      "opt in name\n",
      "opt in name\n",
      "DET01-DETECTOR\n",
      "not order\n"
     ]
    }
   ],
   "source": [
    "with fits.open(stdfile, 'update') as f:\n",
    "    for idx in range(len(f) - 1):\n",
    "        idx += 1\n",
    "        hdu = f[idx]\n",
    "\n",
    "        print(hdu.header['EXTNAME'])\n",
    "\n",
    "        if 'ORDER' not in hdu.header['EXTNAME']:\n",
    "            print('not order')\n",
    "            break\n",
    "        \n",
    "        names = list(hdu.data.names)\n",
    "\n",
    "        if 'ORDER0006' in hdu.header[\"EXTNAME\"]:\n",
    "\n",
    "            print('WORKING ON ORDER %s' % hdu.header['EXTNAME'])\n",
    "\n",
    "            boxnames = [(name.replace('BOX', '')) for name in names if 'BOX' in name]\n",
    "\n",
    "            data = hdu.data.copy()\n",
    "\n",
    "            data['BOX_MASK'] = np.repeat(True, len(data['BOX_MASK']))\n",
    "\n",
    "            for bn in boxnames:\n",
    "                \n",
    "                if 'OPT' + bn in list(data.dtype.names):\n",
    "                    print('opt in name')\n",
    "                    data['OPT' + bn] = data['BOX' + bn]\n",
    "                else:\n",
    "                    print('opt not in name')\n",
    "                    new = np.array(data['BOX' + bn], dtype=[('OPT' + bn, data['BOX' + bn].dtype)])\n",
    "                    data = rfn.merge_arrays(data, new, asrecarray = True, flatten = True)\n",
    "                    data = rfn.append_fields(data, new.dtype.names[0], data['BOX' + bn])\n",
    "\n",
    "                    #\n",
    "                    #break\n",
    "                    #data = rfn.append_fields(data, 'OPT' + bn, data['BOX' + bn], dtypes = data['BOX' + bn].dtype)\n",
    "\n",
    "            #df = pd.DataFrame(data).reindex()\n",
    "            # print(np.sum(df['BOX_MASK']))\n",
    "            # df['BOX_MASK'] = np.repeat(True, len(df['BOX_MASK']))\n",
    "            # print(np.sum(df['BOX_MASK']))\n",
    "\n",
    "            # for bn in boxnames:\n",
    "            #     df['OPT' + bn] = df['BOX' + bn]\n",
    "            #newdata = df.to_records()\n",
    "\n",
    "            f[idx].data = data\n"
   ]
  },
  {
   "cell_type": "markdown",
   "metadata": {},
   "source": [
    "Check Bad Arc"
   ]
  },
  {
   "cell_type": "markdown",
   "metadata": {},
   "source": []
  },
  {
   "cell_type": "code",
   "execution_count": 19,
   "metadata": {},
   "outputs": [],
   "source": [
    "fname = '/n/holyscratch01/conroy_lab/vchandra/mage/data/2023_12_20/raw/mage0062.fits'"
   ]
  },
  {
   "cell_type": "code",
   "execution_count": 20,
   "metadata": {},
   "outputs": [],
   "source": [
    "f = fits.open(fname)"
   ]
  },
  {
   "cell_type": "code",
   "execution_count": 23,
   "metadata": {},
   "outputs": [
    {
     "data": {
      "text/plain": [
       "<matplotlib.image.AxesImage at 0x1455a3e8a7f0>"
      ]
     },
     "execution_count": 23,
     "metadata": {},
     "output_type": "execute_result"
    },
    {
     "data": {
      "image/png": "[encoded data removed]",
      "text/plain": [
       "<Figure size 432x288 with 1 Axes>"
      ]
     },
     "metadata": {
      "needs_background": "light"
     },
     "output_type": "display_data"
    }
   ],
   "source": [
    "plt.imshow(np.log10(f[0].data))"
   ]
  },
  {
   "cell_type": "code",
   "execution_count": 44,
   "metadata": {},
   "outputs": [
    {
     "data": {
      "text/plain": [
       "masked_array(data=[(941.2587648309219, 2.44615361720269, 10.0, 9798.173572091599, 4423.360200341207, 0.00016692092224240406, 77.40065078226421, 0.000970962553801815, 84, 945.5634480767502, 9.815059439145417, 0, 10.0),\n",
       "                   (941.368142176415, 2.4485210802657607, 10.0, 9796.391932926572, 4549.095423167725, 0.00017156266491285995, 76.34640788155345, 0.0010303423510252528, 84, 933.6579617957088, 9.44740732313448, 1, 10.0),\n",
       "                   (941.4780595950938, 2.4528727258117664, 10.0, 9794.600761329824, 4210.441105919157, 0.00018532820031663452, 73.45633326639991, 0.0010509523648863951, 84, 911.7511140113268, 9.42188304788177, 2, 10.0),\n",
       "                   ...,\n",
       "                   (909.0388308969145, 2.9966975505329554, 10.0, 11024.222053962052, 1697.4598977241496, 8.774590308537543e-06, 337.58766984843237, 1.5530612932210123e-05, 84, 979.320530151533, 172.81389976645386, 2045, 10.0),\n",
       "                   (908.8900399254314, 2.9967227324901287, 10.0, 11024.725319155319, 2251.625407481718, 3.2433349622459207e-06, 555.2698568311532, 5.80759832571635e-06, 84, 1104.1934623070633, 304.5616647645782, 2046, 10.0),\n",
       "                   (908.7410930044113, 2.9967463859890766, 10.0, 11025.224437750812, 12147.618090526681, 1.4233636050568676e-07, 2650.587048575915, 5.132300158165162e-07, 84, 1243.593229099507, 1248.629403675223, 2047, 10.0)],\n",
       "             mask=[(False, False, False, False, False, False, False, False, False, False, False, False, False),\n",
       "                   (False, False, False, False, False, False, False, False, False, False, False, False, False),\n",
       "                   (False, False, False, False, False, False, False, False, False, False, False, False, False),\n",
       "                   ...,\n",
       "                   (False, False, False, False, False, False, False, False, False, False, False, False, False),\n",
       "                   (False, False, False, False, False, False, False, False, False, False, False, False, False),\n",
       "                   (False, False, False, False, False, False, False, False, False, False, False, False, False)],\n",
       "       fill_value=(1.e+20, 1.e+20, 1.e+20, 1.e+20, 1.e+20, 1.e+20, 1.e+20, 1.e+20, 63, 1.e+20, 1.e+20, 999999, 1.e+20),\n",
       "            dtype=[('TRACE_SPAT', '>f8'), ('FWHMFIT', '>f8'), ('BOX_NPIX', '>f8'), ('BOX_WAVE', '>f8'), ('BOX_COUNTS', '>f8'), ('BOX_COUNTS_IVAR', '>f8'), ('BOX_COUNTS_SIG', '>f8'), ('BOX_COUNTS_NIVAR', '>f8'), ('BOX_MASK', 'i1'), ('BOX_COUNTS_SKY', '>f8'), ('BOX_COUNTS_SIG_DET', '>f8'), ('trace_spec', '>i8'), ('OPT_NPIX', '>f8')])"
      ]
     },
     "execution_count": 44,
     "metadata": {},
     "output_type": "execute_result"
    }
   ],
   "source": []
  },
  {
   "cell_type": "code",
   "execution_count": null,
   "metadata": {},
   "outputs": [],
   "source": []
  },
  {
   "cell_type": "code",
   "execution_count": null,
   "metadata": {},
   "outputs": [],
   "source": []
  },
  {
   "cell_type": "code",
   "execution_count": 14,
   "metadata": {},
   "outputs": [
    {
     "ename": "FileNotFoundError",
     "evalue": "[Errno 2] No such file or directory: '/n/holyscratch01/conroy_lab/vchandra/mage/data/2022_08_03/reduced_v0/magellan_mage_A/Science/sensfunc.fits'",
     "output_type": "error",
     "traceback": [
      "\u001b[0;31m---------------------------------------------------------------------------\u001b[0m",
      "\u001b[0;31mFileNotFoundError\u001b[0m                         Traceback (most recent call last)",
      "\u001b[0;32m/tmp/ipykernel_3856647/1167210600.py\u001b[0m in \u001b[0;36m<module>\u001b[0;34m\u001b[0m\n\u001b[0;32m----> 1\u001b[0;31m \u001b[0mf\u001b[0m \u001b[0;34m=\u001b[0m \u001b[0mfits\u001b[0m\u001b[0;34m.\u001b[0m\u001b[0mopen\u001b[0m\u001b[0;34m(\u001b[0m\u001b[0msensfile\u001b[0m\u001b[0;34m)\u001b[0m\u001b[0;34m\u001b[0m\u001b[0;34m\u001b[0m\u001b[0m\n\u001b[0m",
      "\u001b[0;32m~/.conda/envs/outerhalo/lib/python3.8/site-packages/astropy/io/fits/hdu/hdulist.py\u001b[0m in \u001b[0;36mfitsopen\u001b[0;34m(name, mode, memmap, save_backup, cache, lazy_load_hdus, ignore_missing_simple, use_fsspec, fsspec_kwargs, **kwargs)\u001b[0m\n\u001b[1;32m    212\u001b[0m         \u001b[0;32mraise\u001b[0m \u001b[0mValueError\u001b[0m\u001b[0;34m(\u001b[0m\u001b[0;34mf\"Empty filename: {name!r}\"\u001b[0m\u001b[0;34m)\u001b[0m\u001b[0;34m\u001b[0m\u001b[0;34m\u001b[0m\u001b[0m\n\u001b[1;32m    213\u001b[0m \u001b[0;34m\u001b[0m\u001b[0m\n\u001b[0;32m--> 214\u001b[0;31m     return HDUList.fromfile(\n\u001b[0m\u001b[1;32m    215\u001b[0m         \u001b[0mname\u001b[0m\u001b[0;34m,\u001b[0m\u001b[0;34m\u001b[0m\u001b[0;34m\u001b[0m\u001b[0m\n\u001b[1;32m    216\u001b[0m         \u001b[0mmode\u001b[0m\u001b[0;34m,\u001b[0m\u001b[0;34m\u001b[0m\u001b[0;34m\u001b[0m\u001b[0m\n",
      "\u001b[0;32m~/.conda/envs/outerhalo/lib/python3.8/site-packages/astropy/io/fits/hdu/hdulist.py\u001b[0m in \u001b[0;36mfromfile\u001b[0;34m(cls, fileobj, mode, memmap, save_backup, cache, lazy_load_hdus, ignore_missing_simple, **kwargs)\u001b[0m\n\u001b[1;32m    480\u001b[0m         \"\"\"\n\u001b[1;32m    481\u001b[0m \u001b[0;34m\u001b[0m\u001b[0m\n\u001b[0;32m--> 482\u001b[0;31m         return cls._readfrom(\n\u001b[0m\u001b[1;32m    483\u001b[0m             \u001b[0mfileobj\u001b[0m\u001b[0;34m=\u001b[0m\u001b[0mfileobj\u001b[0m\u001b[0;34m,\u001b[0m\u001b[0;34m\u001b[0m\u001b[0;34m\u001b[0m\u001b[0m\n\u001b[1;32m    484\u001b[0m             \u001b[0mmode\u001b[0m\u001b[0;34m=\u001b[0m\u001b[0mmode\u001b[0m\u001b[0;34m,\u001b[0m\u001b[0;34m\u001b[0m\u001b[0;34m\u001b[0m\u001b[0m\n",
      "\u001b[0;32m~/.conda/envs/outerhalo/lib/python3.8/site-packages/astropy/io/fits/hdu/hdulist.py\u001b[0m in \u001b[0;36m_readfrom\u001b[0;34m(cls, fileobj, data, mode, memmap, cache, lazy_load_hdus, ignore_missing_simple, use_fsspec, fsspec_kwargs, **kwargs)\u001b[0m\n\u001b[1;32m   1168\u001b[0m             \u001b[0;32mif\u001b[0m \u001b[0;32mnot\u001b[0m \u001b[0misinstance\u001b[0m\u001b[0;34m(\u001b[0m\u001b[0mfileobj\u001b[0m\u001b[0;34m,\u001b[0m \u001b[0m_File\u001b[0m\u001b[0;34m)\u001b[0m\u001b[0;34m:\u001b[0m\u001b[0;34m\u001b[0m\u001b[0;34m\u001b[0m\u001b[0m\n\u001b[1;32m   1169\u001b[0m                 \u001b[0;31m# instantiate a FITS file object (ffo)\u001b[0m\u001b[0;34m\u001b[0m\u001b[0;34m\u001b[0m\u001b[0;34m\u001b[0m\u001b[0m\n\u001b[0;32m-> 1170\u001b[0;31m                 fileobj = _File(\n\u001b[0m\u001b[1;32m   1171\u001b[0m                     \u001b[0mfileobj\u001b[0m\u001b[0;34m,\u001b[0m\u001b[0;34m\u001b[0m\u001b[0;34m\u001b[0m\u001b[0m\n\u001b[1;32m   1172\u001b[0m                     \u001b[0mmode\u001b[0m\u001b[0;34m=\u001b[0m\u001b[0mmode\u001b[0m\u001b[0;34m,\u001b[0m\u001b[0;34m\u001b[0m\u001b[0;34m\u001b[0m\u001b[0m\n",
      "\u001b[0;32m~/.conda/envs/outerhalo/lib/python3.8/site-packages/astropy/io/fits/file.py\u001b[0m in \u001b[0;36m__init__\u001b[0;34m(self, fileobj, mode, memmap, overwrite, cache, use_fsspec, fsspec_kwargs)\u001b[0m\n\u001b[1;32m    216\u001b[0m             \u001b[0mself\u001b[0m\u001b[0;34m.\u001b[0m\u001b[0m_open_fileobj\u001b[0m\u001b[0;34m(\u001b[0m\u001b[0mfileobj\u001b[0m\u001b[0;34m,\u001b[0m \u001b[0mmode\u001b[0m\u001b[0;34m,\u001b[0m \u001b[0moverwrite\u001b[0m\u001b[0;34m)\u001b[0m\u001b[0;34m\u001b[0m\u001b[0;34m\u001b[0m\u001b[0m\n\u001b[1;32m    217\u001b[0m         \u001b[0;32melif\u001b[0m \u001b[0misinstance\u001b[0m\u001b[0;34m(\u001b[0m\u001b[0mfileobj\u001b[0m\u001b[0;34m,\u001b[0m \u001b[0;34m(\u001b[0m\u001b[0mstr\u001b[0m\u001b[0;34m,\u001b[0m \u001b[0mbytes\u001b[0m\u001b[0;34m)\u001b[0m\u001b[0;34m)\u001b[0m\u001b[0;34m:\u001b[0m\u001b[0;34m\u001b[0m\u001b[0;34m\u001b[0m\u001b[0m\n\u001b[0;32m--> 218\u001b[0;31m             \u001b[0mself\u001b[0m\u001b[0;34m.\u001b[0m\u001b[0m_open_filename\u001b[0m\u001b[0;34m(\u001b[0m\u001b[0mfileobj\u001b[0m\u001b[0;34m,\u001b[0m \u001b[0mmode\u001b[0m\u001b[0;34m,\u001b[0m \u001b[0moverwrite\u001b[0m\u001b[0;34m)\u001b[0m\u001b[0;34m\u001b[0m\u001b[0;34m\u001b[0m\u001b[0m\n\u001b[0m\u001b[1;32m    219\u001b[0m         \u001b[0;32melse\u001b[0m\u001b[0;34m:\u001b[0m\u001b[0;34m\u001b[0m\u001b[0;34m\u001b[0m\u001b[0m\n\u001b[1;32m    220\u001b[0m             \u001b[0mself\u001b[0m\u001b[0;34m.\u001b[0m\u001b[0m_open_filelike\u001b[0m\u001b[0;34m(\u001b[0m\u001b[0mfileobj\u001b[0m\u001b[0;34m,\u001b[0m \u001b[0mmode\u001b[0m\u001b[0;34m,\u001b[0m \u001b[0moverwrite\u001b[0m\u001b[0;34m)\u001b[0m\u001b[0;34m\u001b[0m\u001b[0;34m\u001b[0m\u001b[0m\n",
      "\u001b[0;32m~/.conda/envs/outerhalo/lib/python3.8/site-packages/astropy/io/fits/file.py\u001b[0m in \u001b[0;36m_open_filename\u001b[0;34m(self, filename, mode, overwrite)\u001b[0m\n\u001b[1;32m    634\u001b[0m \u001b[0;34m\u001b[0m\u001b[0m\n\u001b[1;32m    635\u001b[0m         \u001b[0;32mif\u001b[0m \u001b[0;32mnot\u001b[0m \u001b[0mself\u001b[0m\u001b[0;34m.\u001b[0m\u001b[0m_try_read_compressed\u001b[0m\u001b[0;34m(\u001b[0m\u001b[0mself\u001b[0m\u001b[0;34m.\u001b[0m\u001b[0mname\u001b[0m\u001b[0;34m,\u001b[0m \u001b[0mmagic\u001b[0m\u001b[0;34m,\u001b[0m \u001b[0mmode\u001b[0m\u001b[0;34m,\u001b[0m \u001b[0mext\u001b[0m\u001b[0;34m=\u001b[0m\u001b[0mext\u001b[0m\u001b[0;34m)\u001b[0m\u001b[0;34m:\u001b[0m\u001b[0;34m\u001b[0m\u001b[0;34m\u001b[0m\u001b[0m\n\u001b[0;32m--> 636\u001b[0;31m             \u001b[0mself\u001b[0m\u001b[0;34m.\u001b[0m\u001b[0m_file\u001b[0m \u001b[0;34m=\u001b[0m \u001b[0mopen\u001b[0m\u001b[0;34m(\u001b[0m\u001b[0mself\u001b[0m\u001b[0;34m.\u001b[0m\u001b[0mname\u001b[0m\u001b[0;34m,\u001b[0m \u001b[0mIO_FITS_MODES\u001b[0m\u001b[0;34m[\u001b[0m\u001b[0mmode\u001b[0m\u001b[0;34m]\u001b[0m\u001b[0;34m)\u001b[0m\u001b[0;34m\u001b[0m\u001b[0;34m\u001b[0m\u001b[0m\n\u001b[0m\u001b[1;32m    637\u001b[0m             \u001b[0mself\u001b[0m\u001b[0;34m.\u001b[0m\u001b[0mclose_on_error\u001b[0m \u001b[0;34m=\u001b[0m \u001b[0;32mTrue\u001b[0m\u001b[0;34m\u001b[0m\u001b[0;34m\u001b[0m\u001b[0m\n\u001b[1;32m    638\u001b[0m \u001b[0;34m\u001b[0m\u001b[0m\n",
      "\u001b[0;31mFileNotFoundError\u001b[0m: [Errno 2] No such file or directory: '/n/holyscratch01/conroy_lab/vchandra/mage/data/2022_08_03/reduced_v0/magellan_mage_A/Science/sensfunc.fits'"
     ]
    }
   ],
   "source": [
    "f = fits.open(sensfile)"
   ]
  },
  {
   "cell_type": "code",
   "execution_count": 19,
   "metadata": {},
   "outputs": [
    {
     "data": {
      "text/plain": [
       "array([(941.25876483, 2.44615362, 10.,  9798.17357209,  4423.36020034, 1.66920922e-04,   77.40065078, 9.70962554e-04, 84,  945.56344808,    9.81505944,    0),\n",
       "       (941.36814218, 2.44852108, 10.,  9796.39193293,  4549.09542317, 1.71562665e-04,   76.34640788, 1.03034235e-03, 84,  933.6579618 ,    9.44740732,    1),\n",
       "       (941.4780596 , 2.45287273, 10.,  9794.60076133,  4210.44110592, 1.85328200e-04,   73.45633327, 1.05095236e-03, 84,  911.75111401,    9.42188305,    2),\n",
       "       ...,\n",
       "       (909.0388309 , 2.99669755, 10., 11024.22205396,  1697.45989772, 8.77459031e-06,  337.58766985, 1.55306129e-05, 84,  979.32053015,  172.81389977, 2045),\n",
       "       (908.89003993, 2.99672273, 10., 11024.72531916,  2251.62540748, 3.24333496e-06,  555.26985683, 5.80759833e-06, 84, 1104.19346231,  304.56166476, 2046),\n",
       "       (908.741093  , 2.99674639, 10., 11025.22443775, 12147.61809053, 1.42336361e-07, 2650.58704858, 5.13230016e-07, 84, 1243.5932291 , 1248.62940368, 2047)],\n",
       "      dtype=(numpy.record, [('TRACE_SPAT', '>f8'), ('FWHMFIT', '>f8'), ('BOX_NPIX', '>f8'), ('BOX_WAVE', '>f8'), ('BOX_COUNTS', '>f8'), ('BOX_COUNTS_IVAR', '>f8'), ('BOX_COUNTS_SIG', '>f8'), ('BOX_COUNTS_NIVAR', '>f8'), ('BOX_MASK', 'i1'), ('BOX_COUNTS_SKY', '>f8'), ('BOX_COUNTS_SIG_DET', '>f8'), ('trace_spec', '>i8')]))"
      ]
     },
     "execution_count": 19,
     "metadata": {},
     "output_type": "execute_result"
    }
   ],
   "source": [
    "data"
   ]
  },
  {
   "cell_type": "code",
   "execution_count": null,
   "metadata": {},
   "outputs": [],
   "source": []
  },
  {
   "cell_type": "code",
   "execution_count": 38,
   "metadata": {},
   "outputs": [],
   "source": [
    "night = '2022_11_03'"
   ]
  },
  {
   "cell_type": "code",
   "execution_count": 39,
   "metadata": {},
   "outputs": [],
   "source": [
    "rawdir = datadir + 'data/' + night + '/raw/'"
   ]
  },
  {
   "cell_type": "code",
   "execution_count": 40,
   "metadata": {},
   "outputs": [],
   "source": [
    "file = rawdir + 'mage1067.fits'"
   ]
  },
  {
   "cell_type": "code",
   "execution_count": 41,
   "metadata": {},
   "outputs": [
    {
     "name": "stdout",
     "output_type": "stream",
     "text": [
      "None\n"
     ]
    }
   ],
   "source": [
    "with fits.open(file, 'update') as f:\n",
    "    print(f[0].header['OBJECT'])"
   ]
  },
  {
   "cell_type": "code",
   "execution_count": 42,
   "metadata": {},
   "outputs": [],
   "source": [
    "with fits.open(file, 'update') as f:\n",
    "    f[0].header['OBJECT'] = 'thar'"
   ]
  },
  {
   "cell_type": "code",
   "execution_count": 43,
   "metadata": {},
   "outputs": [
    {
     "name": "stdout",
     "output_type": "stream",
     "text": [
      "thar\n"
     ]
    }
   ],
   "source": [
    "with fits.open(file) as f:\n",
    "    print(f[0].header['OBJECT'])"
   ]
  },
  {
   "cell_type": "code",
   "execution_count": null,
   "metadata": {},
   "outputs": [],
   "source": []
  },
  {
   "cell_type": "code",
   "execution_count": null,
   "metadata": {},
   "outputs": [],
   "source": []
  },
  {
   "cell_type": "code",
   "execution_count": null,
   "metadata": {},
   "outputs": [],
   "source": []
  }
 ],
 "metadata": {
  "kernelspec": {
   "display_name": "outerhalo",
   "language": "python",
   "name": "python3"
  },
  "language_info": {
   "codemirror_mode": {
    "name": "ipython",
    "version": 3
   },
   "file_extension": ".py",
   "mimetype": "text/x-python",
   "name": "python",
   "nbconvert_exporter": "python",
   "pygments_lexer": "ipython3",
   "version": "3.8.12"
  }
 },
 "nbformat": 4,
 "nbformat_minor": 2
}
