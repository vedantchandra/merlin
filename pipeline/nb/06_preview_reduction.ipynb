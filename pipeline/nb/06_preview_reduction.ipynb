{
 "cells": [
  {
   "cell_type": "code",
   "execution_count": 1,
   "id": "d0f28c74-7e3f-4c3b-856c-b85fe352a966",
   "metadata": {},
   "outputs": [],
   "source": [
    "from astropy.io import fits\n",
    "import glob\n",
    "import matplotlib.pyplot as plt\n",
    "import numpy as np\n",
    "from tqdm import tqdm\n",
    "\n",
    "plt.style.use('~/vedant.mplstyle')\n",
    "%config InlineBackend.figure_format='retina'"
   ]
  },
  {
   "cell_type": "code",
   "execution_count": 2,
   "id": "30da1221-42a0-42c4-a448-eb374aebb1e8",
   "metadata": {},
   "outputs": [],
   "source": [
    "night = '2023_02_07'"
   ]
  },
  {
   "cell_type": "code",
   "execution_count": 3,
   "id": "9c64d216-78be-4d22-93fa-d67c43c4cff5",
   "metadata": {},
   "outputs": [],
   "source": [
    "dataf = '/n/holyscratch01/conroy_lab/vchandra/mage/data/'\n",
    "nightf = dataf + night + '/'"
   ]
  },
  {
   "cell_type": "code",
   "execution_count": 4,
   "id": "9c628c10-1214-4695-941f-d7a2afc22d9e",
   "metadata": {},
   "outputs": [],
   "source": [
    "masterfiles = np.sort(glob.glob(nightf + 'reduced_v0/magellan_mage_A/Masters/*'))"
   ]
  },
  {
   "cell_type": "code",
   "execution_count": 5,
   "id": "df4397c4-eef8-4b3a-9bb7-118850d92f30",
   "metadata": {},
   "outputs": [],
   "source": [
    "scifiles = np.sort(glob.glob(nightf + 'reduced_v0/magellan_mage_A/Science/spec1d*.fits'))"
   ]
  },
  {
   "cell_type": "code",
   "execution_count": 16,
   "id": "a7fca896-e586-4a9b-8eea-13be44aa6e02",
   "metadata": {},
   "outputs": [],
   "source": [
    "for file in scifiles:\n",
    "    \n",
    "    with fits.open(file) as f:\n",
    "        \n",
    "        \n",
    "        \n",
    "        break"
   ]
  },
  {
   "cell_type": "code",
   "execution_count": null,
   "id": "66dd3a2f-29cf-487f-8e38-e2f91a8dde67",
   "metadata": {},
   "outputs": [],
   "source": []
  },
  {
   "cell_type": "code",
   "execution_count": null,
   "id": "83f5aa01-66b1-4f56-a094-0b91bf479e26",
   "metadata": {},
   "outputs": [],
   "source": []
  },
  {
   "cell_type": "code",
   "execution_count": null,
   "id": "4a952aa1-af8c-4a88-9046-a15c70f89219",
   "metadata": {},
   "outputs": [],
   "source": []
  }
 ],
 "metadata": {
  "kernelspec": {
   "display_name": "Python [conda env:.conda-outerhalo]",
   "language": "python",
   "name": "conda-env-.conda-outerhalo-py"
  },
  "language_info": {
   "codemirror_mode": {
    "name": "ipython",
    "version": 3
   },
   "file_extension": ".py",
   "mimetype": "text/x-python",
   "name": "python",
   "nbconvert_exporter": "python",
   "pygments_lexer": "ipython3",
   "version": "3.8.12"
  }
 },
 "nbformat": 4,
 "nbformat_minor": 5
}
