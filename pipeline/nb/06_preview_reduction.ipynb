{
 "cells": [
  {
   "cell_type": "code",
   "execution_count": 1,
   "id": "d0f28c74-7e3f-4c3b-856c-b85fe352a966",
   "metadata": {},
   "outputs": [],
   "source": [
    "from astropy.io import fits\n",
    "import glob\n",
    "import matplotlib.pyplot as plt\n",
    "import numpy as np\n",
    "from tqdm import tqdm\n",
    "\n",
    "plt.style.use('~/vedant.mplstyle')\n",
    "%config InlineBackend.figure_format='retina'"
   ]
  },
  {
   "cell_type": "code",
   "execution_count": 2,
   "id": "30da1221-42a0-42c4-a448-eb374aebb1e8",
   "metadata": {},
   "outputs": [],
   "source": [
    "night = '2023_02_07'"
   ]
  },
  {
   "cell_type": "code",
   "execution_count": 3,
   "id": "9c64d216-78be-4d22-93fa-d67c43c4cff5",
   "metadata": {},
   "outputs": [],
   "source": [
    "dataf = '/n/holyscratch01/conroy_lab/vchandra/mage/data/'\n",
    "nightf = dataf + night + '/'"
   ]
  },
  {
   "cell_type": "code",
   "execution_count": 4,
   "id": "9c628c10-1214-4695-941f-d7a2afc22d9e",
   "metadata": {},
   "outputs": [],
   "source": [
    "masterfiles = np.sort(glob.glob(nightf + 'reduced_v0/magellan_mage_A/Masters/*'))"
   ]
  },
  {
   "cell_type": "code",
   "execution_count": 5,
   "id": "df4397c4-eef8-4b3a-9bb7-118850d92f30",
   "metadata": {},
   "outputs": [],
   "source": [
    "scifiles = np.sort(glob.glob(nightf + 'reduced_v0/magellan_mage_A/Science/spec1d*.fits'))"
   ]
  },
  {
   "cell_type": "code",
   "execution_count": 8,
   "id": "a7fca896-e586-4a9b-8eea-13be44aa6e02",
   "metadata": {},
   "outputs": [
    {
     "name": "stdout",
     "output_type": "stream",
     "text": [
      "XTENSION= 'BINTABLE'           / binary table extension                         BITPIX  =                    8 / array data type                                NAXIS   =                    2 / number of array dimensions                     NAXIS1  =                  162 / length of dimension 1                          NAXIS2  =                 2048 / length of dimension 2                          PCOUNT  =                    0 / number of group parameters                     GCOUNT  =                    1 / number of groups                               TFIELDS =                   22 / number of table fields                         VERSPYT = '3.9.13  '           / Python version                                 VERSNPY = '1.23.4  '           / Numpy version                                  VERSSCI = '1.9.3   '           / Scipy version                                  VERSAST = '5.1.1   '           / Astropy version                                VERSSKL = '1.1.3   '           / Scikit-learn version                           VERSPYP = '1.11.1.dev10+gab903c2.d20221212' / PypeIt version                    DATE    = '2023-02-10'         / UTC date created                               DMODCLS = 'SpecObj '           / Datamodel class                                DMODVER = '1.1.6   '           / Datamodel version                              FWHM    =    3.399899377950579                                                  HIERARCH SMASH_PEAKFLUX = 94.09671505888916                                     HIERARCH SMASH_SNR = 351.3875992790022                                          HIERARCH BOX_RADIUS = 5.0                                                       HIERARCH FLEX_SHIFT_GLOBAL = 0.0                                                HIERARCH FLEX_SHIFT_LOCAL = 0.0                                                 HIERARCH FLEX_SHIFT_TOTAL = 0.0                                                 VEL_TYPE= 'heliocentric'                                                        VEL_CORR=    1.000091142005724                                                  DET     = 'DET01   '                                                            PYPELINE= 'Echelle '                                                            OBJTYPE = 'science '                                                            HIERARCH SPAT_PIXPOS = 324.7780341804028                                        HIERARCH SPAT_FRACPOS = 0.5735857895125751                                      HIERARCH MASKWIDTH = 28.24847431604249                                          WAVE_RMS=   0.2144756316062477                                                  SLITID  =                  323                                                  OBJID   =                    1                                                  NAME    = 'OBJ0550-DET01-ORDER0017'                                             HIERARCH HAND_EXTRACT_FLAG = F                                                  HIERARCH ECH_OBJID = 1                                                          HIERARCH ECH_ORDERINDX = 0                                                      HIERARCH ECH_FRACPOS = 0.5502192428172323                                       HIERARCH ECH_ORDER = 17                                                         ECH_NAME= 'OBJ0550-DET01'                                                       TTYPE1  = 'TRACE_SPAT'                                                          TFORM1  = '1D      '                                                            TTYPE2  = 'FWHMFIT '                                                            TFORM2  = '1D      '                                                            TTYPE3  = 'OPT_WAVE'                                                            TFORM3  = '1D      '                                                            TTYPE4  = 'OPT_COUNTS'                                                          TFORM4  = '1D      '                                                            TTYPE5  = 'OPT_COUNTS_IVAR'                                                     TFORM5  = '1D      '                                                            TTYPE6  = 'OPT_COUNTS_SIG'                                                      TFORM6  = '1D      '                                                            TTYPE7  = 'OPT_COUNTS_NIVAR'                                                    TFORM7  = '1D      '                                                            TTYPE8  = 'OPT_MASK'                                                            TFORM8  = '1L      '                                                            TTYPE9  = 'OPT_COUNTS_SKY'                                                      TFORM9  = '1D      '                                                            TTYPE10 = 'OPT_COUNTS_SIG_DET'                                                  TFORM10 = '1D      '                                                            TTYPE11 = 'OPT_FRAC_USE'                                                        TFORM11 = '1D      '                                                            TTYPE12 = 'OPT_CHI2'                                                            TFORM12 = '1D      '                                                            TTYPE13 = 'BOX_NPIX'                                                            TFORM13 = '1D      '                                                            TTYPE14 = 'BOX_WAVE'                                                            TFORM14 = '1D      '                                                            TTYPE15 = 'BOX_COUNTS'                                                          TFORM15 = '1D      '                                                            TTYPE16 = 'BOX_COUNTS_IVAR'                                                     TFORM16 = '1D      '                                                            TTYPE17 = 'BOX_COUNTS_SIG'                                                      TFORM17 = '1D      '                                                            TTYPE18 = 'BOX_COUNTS_NIVAR'                                                    TFORM18 = '1D      '                                                            TTYPE19 = 'BOX_MASK'                                                            TFORM19 = '1L      '                                                            TTYPE20 = 'BOX_COUNTS_SKY'                                                      TFORM20 = '1D      '                                                            TTYPE21 = 'BOX_COUNTS_SIG_DET'                                                  TFORM21 = '1D      '                                                            TTYPE22 = 'trace_spec'                                                          TFORM22 = '1K      '                                                            EXTNAME = 'OBJ0550-DET01-ORDER0017' / extension name                            END                                                                                                                                                                                                                                                                                                                                                                                                                                                                                                                                                                                                                                                                                                                                                                                                                                                                                                                                                                                                                                                                                                                                                                                                                                                                                                                                                                                                                                                                                                                                                                                                                                                                                                                                             \n"
     ]
    }
   ],
   "source": [
    "for file in scifiles:\n",
    "    \n",
    "    if 'hip66765' in file:\n",
    "        f = fits.open(file)\n",
    "        \n",
    "        print(f[1].header)\n",
    "        \n",
    "        f.close()"
   ]
  },
  {
   "cell_type": "code",
   "execution_count": null,
   "id": "66dd3a2f-29cf-487f-8e38-e2f91a8dde67",
   "metadata": {},
   "outputs": [],
   "source": []
  },
  {
   "cell_type": "code",
   "execution_count": null,
   "id": "83f5aa01-66b1-4f56-a094-0b91bf479e26",
   "metadata": {},
   "outputs": [],
   "source": []
  },
  {
   "cell_type": "code",
   "execution_count": null,
   "id": "4a952aa1-af8c-4a88-9046-a15c70f89219",
   "metadata": {},
   "outputs": [],
   "source": []
  }
 ],
 "metadata": {
  "kernelspec": {
   "display_name": "Python [conda env:.conda-outerhalo]",
   "language": "python",
   "name": "conda-env-.conda-outerhalo-py"
  },
  "language_info": {
   "codemirror_mode": {
    "name": "ipython",
    "version": 3
   },
   "file_extension": ".py",
   "mimetype": "text/x-python",
   "name": "python",
   "nbconvert_exporter": "python",
   "pygments_lexer": "ipython3",
   "version": "3.8.12"
  }
 },
 "nbformat": 4,
 "nbformat_minor": 5
}
