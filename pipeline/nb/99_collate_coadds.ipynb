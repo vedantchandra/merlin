{
 "cells": [
  {
   "cell_type": "code",
   "execution_count": 4,
   "id": "3bd82cdc-9bbf-4eca-988e-6cd8db5115f6",
   "metadata": {},
   "outputs": [],
   "source": [
    "import numpy as np\n",
    "import matplotlib.pyplot as plt\n",
    "from astropy.table import Table\n",
    "import astropy\n",
    "from astropy.io import ascii\n",
    "import os\n",
    "from tqdm import tqdm\n",
    "import glob"
   ]
  },
  {
   "cell_type": "code",
   "execution_count": 9,
   "id": "1560aef4-3ed6-4299-ab04-c225e6ca3922",
   "metadata": {},
   "outputs": [],
   "source": [
    "version = 'v0'"
   ]
  },
  {
   "cell_type": "code",
   "execution_count": 10,
   "id": "c6c04fd0-07af-47e1-94e2-8d95691e7914",
   "metadata": {},
   "outputs": [],
   "source": [
    "coadds = glob.glob('/n/holyscratch01/conroy_lab/vchandra/mage/data/*/reduced_%s/magellan_mage_A/Science/coadd/*.fits' % version)"
   ]
  },
  {
   "cell_type": "code",
   "execution_count": 20,
   "id": "b85618a5-1798-40a9-81bc-541238fd6095",
   "metadata": {},
   "outputs": [],
   "source": [
    "outdir = '/n/holyscratch01/conroy_lab/vchandra/mage/data/coadds_%s/' % version\n",
    "\n",
    "try:\n",
    "    os.mkdir(outdir)\n",
    "except:\n",
    "    print('exists')"
   ]
  },
  {
   "cell_type": "code",
   "execution_count": 22,
   "id": "ae6174f6-a5ab-422a-902e-5a662d5ac9af",
   "metadata": {},
   "outputs": [],
   "source": [
    "for coadd in tqdm(coadds):\n",
    "    cmd = 'cp %s %s' % (coadd, outdir)\n",
    "    #print(cmd)\n",
    "    os.system(cmd)"
   ]
  },
  {
   "cell_type": "code",
   "execution_count": null,
   "id": "2293d19c-4d32-42b3-bf5d-4fa665d11ec2",
   "metadata": {},
   "outputs": [],
   "source": []
  },
  {
   "cell_type": "code",
   "execution_count": null,
   "id": "cca415f0-99c9-4bef-8066-f201cfae69aa",
   "metadata": {},
   "outputs": [],
   "source": []
  }
 ],
 "metadata": {
  "kernelspec": {
   "display_name": "Python [conda env:.conda-outerhalo]",
   "language": "python",
   "name": "conda-env-.conda-outerhalo-py"
  },
  "language_info": {
   "codemirror_mode": {
    "name": "ipython",
    "version": 3
   },
   "file_extension": ".py",
   "mimetype": "text/x-python",
   "name": "python",
   "nbconvert_exporter": "python",
   "pygments_lexer": "ipython3",
   "version": "3.8.12"
  }
 },
 "nbformat": 4,
 "nbformat_minor": 5
}
