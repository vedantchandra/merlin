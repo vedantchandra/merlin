{
 "cells": [
  {
   "cell_type": "code",
   "execution_count": 1,
   "id": "8d32780a-daf2-454b-9729-c0428271c78e",
   "metadata": {},
   "outputs": [],
   "source": [
    "import numpy as np\n",
    "from astropy.table import Table,hstack,vstack,join\n",
    "from astropy.io import fits\n",
    "from astropy.coordinates import SkyCoord\n",
    "from astropy import units as u\n",
    "import glob\n",
    "\n",
    "from scipy import constants\n",
    "speedoflight = constants.c / 1000.0"
   ]
  },
  {
   "cell_type": "code",
   "execution_count": 2,
   "id": "d64d1150-c28d-4e2d-9689-2eae01439b11",
   "metadata": {},
   "outputs": [],
   "source": [
    "catdir = '/n/holyscratch01/conroy_lab/vchandra/mage/catalogs/'"
   ]
  },
  {
   "cell_type": "code",
   "execution_count": 3,
   "id": "46de3b79-0a36-46b5-a09e-b93620783984",
   "metadata": {},
   "outputs": [],
   "source": [
    "acat = Table.read(catdir + 'mage_acat.fits')"
   ]
  },
  {
   "cell_type": "code",
   "execution_count": 10,
   "id": "2fab0342-6ce8-46a9-ad2f-d338312d4d5b",
   "metadata": {},
   "outputs": [],
   "source": [
    "h3sel = (acat['tdb_selection'] == 'h3')"
   ]
  },
  {
   "cell_type": "code",
   "execution_count": 12,
   "id": "49d6c4ce-e6c6-4399-bce6-204f495fefc8",
   "metadata": {},
   "outputs": [],
   "source": [
    "acat[h3sel].write(catdir + 'h3cal_acat.fits')"
   ]
  },
  {
   "cell_type": "code",
   "execution_count": null,
   "id": "0e5973e2-3fe2-43ed-874b-e2d94389d912",
   "metadata": {},
   "outputs": [],
   "source": []
  }
 ],
 "metadata": {
  "kernelspec": {
   "display_name": "Python [conda env:.conda-outerhalo]",
   "language": "python",
   "name": "conda-env-.conda-outerhalo-py"
  },
  "language_info": {
   "codemirror_mode": {
    "name": "ipython",
    "version": 3
   },
   "file_extension": ".py",
   "mimetype": "text/x-python",
   "name": "python",
   "nbconvert_exporter": "python",
   "pygments_lexer": "ipython3",
   "version": "3.8.12"
  }
 },
 "nbformat": 4,
 "nbformat_minor": 5
}
