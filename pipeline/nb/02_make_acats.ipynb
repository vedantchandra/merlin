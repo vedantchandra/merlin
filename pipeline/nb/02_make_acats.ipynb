{
 "cells": [
  {
   "cell_type": "code",
   "execution_count": 1,
   "id": "8d32780a-daf2-454b-9729-c0428271c78e",
   "metadata": {},
   "outputs": [],
   "source": [
    "import numpy as np\n",
    "from astropy.table import Table,hstack,vstack,join\n",
    "from astropy.io import fits\n",
    "from astropy.coordinates import SkyCoord\n",
    "from astropy import units as u\n",
    "import glob\n",
    "\n",
    "from scipy import constants\n",
    "speedoflight = constants.c / 1000.0"
   ]
  },
  {
   "cell_type": "code",
   "execution_count": 2,
   "id": "d64d1150-c28d-4e2d-9689-2eae01439b11",
   "metadata": {},
   "outputs": [],
   "source": [
    "catdir = '/n/holyscratch01/conroy_lab/vchandra/mage/catalogs/'"
   ]
  },
  {
   "cell_type": "code",
   "execution_count": 3,
   "id": "46de3b79-0a36-46b5-a09e-b93620783984",
   "metadata": {},
   "outputs": [],
   "source": [
    "acat = Table.read(catdir + 'mage_acat.fits')"
   ]
  },
  {
   "cell_type": "markdown",
   "id": "0f43c24b-0f22-45c9-b4f6-ac5fe40f2f79",
   "metadata": {},
   "source": [
    "### H3Cal"
   ]
  },
  {
   "cell_type": "code",
   "execution_count": 10,
   "id": "2fab0342-6ce8-46a9-ad2f-d338312d4d5b",
   "metadata": {},
   "outputs": [],
   "source": [
    "h3sel = (acat['tdb_selection'] == 'h3')"
   ]
  },
  {
   "cell_type": "code",
   "execution_count": 12,
   "id": "49d6c4ce-e6c6-4399-bce6-204f495fefc8",
   "metadata": {},
   "outputs": [],
   "source": [
    "acat[h3sel].write(catdir + 'h3cal_acat.fits')"
   ]
  },
  {
   "cell_type": "markdown",
   "id": "2604e499-89eb-4cf3-8485-f94589f384c9",
   "metadata": {},
   "source": [
    "### STDs"
   ]
  },
  {
   "cell_type": "code",
   "execution_count": 7,
   "id": "df392812-a52c-4753-9fdd-dd69db7deae5",
   "metadata": {},
   "outputs": [],
   "source": [
    "rvs = acat[acat['tdb_selection'] == 'rvs']"
   ]
  },
  {
   "cell_type": "code",
   "execution_count": 8,
   "id": "b0d13817-717c-4e99-b0c7-848959077355",
   "metadata": {},
   "outputs": [],
   "source": [
    "rvs.write(catdir + 'rvs_acat.fits')"
   ]
  },
  {
   "cell_type": "code",
   "execution_count": 9,
   "id": "dd57e460-1b32-490d-998f-44f53a5a9567",
   "metadata": {},
   "outputs": [
    {
     "data": {
      "text/html": [
       "<div><i>Table length=6</i>\n",
       "<table id=\"table47524413748608\" class=\"table-striped table-bordered table-condensed\">\n",
       "<thead><tr><th>name</th><th>date</th><th>specfile</th><th>mage_ra</th><th>mage_dec</th><th>mage_target</th><th>mage_decker</th><th>mage_binning</th><th>mage_mjd</th><th>mage_airmass</th><th>mage_exptime</th><th>tdb_source_id</th><th>tdb_ra</th><th>tdb_dec</th><th>tdb_selection</th><th>H3_ID</th><th>PS_ID</th><th>TMASS_ID</th><th>WISE_ID</th><th>UNWISE_ID</th><th>GAIAEDR3_ID</th><th>GAIADR1_ID</th><th>TILE_ID</th><th>RA</th><th>DEC</th><th>RA_S</th><th>DEC_S</th><th>L</th><th>B</th><th>EBV</th><th>BHB</th><th>MGIANT</th><th>RAND</th><th>GUIDE</th><th>XFIT_RANK</th><th>PS_G</th><th>PS_R</th><th>PS_I</th><th>PS_Z</th><th>PS_Y</th><th>SDSS_U</th><th>SDSS_G</th><th>SDSS_R</th><th>SDSS_I</th><th>SDSS_Z</th><th>TMASS_J</th><th>TMASS_H</th><th>TMASS_K</th><th>WISE_W1</th><th>WISE_W2</th><th>UNWISE_W1</th><th>UNWISE_W2</th><th>GAIAEDR3_G</th><th>GAIAEDR3_BP</th><th>GAIAEDR3_RP</th><th>PS_G_ERR</th><th>PS_R_ERR</th><th>PS_I_ERR</th><th>PS_Z_ERR</th><th>PS_Y_ERR</th><th>SDSS_U_ERR</th><th>SDSS_G_ERR</th><th>SDSS_R_ERR</th><th>SDSS_I_ERR</th><th>SDSS_Z_ERR</th><th>TMASS_J_ERR</th><th>TMASS_H_ERR</th><th>TMASS_K_ERR</th><th>WISE_W1_ERR</th><th>WISE_W2_ERR</th><th>UNWISE_W1_ERR</th><th>UNWISE_W2_ERR</th><th>GAIAEDR3_G_ERR</th><th>GAIAEDR3_BP_ERR</th><th>GAIAEDR3_RP_ERR</th><th>GAIAEDR3_RA</th><th>GAIAEDR3_DEC</th><th>GAIAEDR3_RA_ERROR</th><th>GAIAEDR3_DEC_ERROR</th><th>GAIAEDR3_PARALLAX</th><th>GAIAEDR3_PARALLAX_ERROR</th><th>GAIAEDR3_PARALLAX_OVER_ERROR</th><th>GAIAEDR3_PMRA</th><th>GAIAEDR3_PMDEC</th><th>GAIAEDR3_PMRA_ERROR</th><th>GAIAEDR3_PMDEC_ERROR</th><th>GAIAEDR3_PSEUDOCOLOUR</th><th>GAIAEDR3_PSEUDOCOLOUR_ERROR</th><th>GAIAEDR3_NU_EFF_USED_IN_ASTROMETRY</th><th>GAIAEDR3_ASTROMETRIC_PARAMS_SOLVED</th><th>GAIAEDR3_PHOT_BP_RP_EXCESS_FACTOR</th><th>GAIAEDR3_VISIBILITY_PERIODS_USED</th><th>GAIAEDR3_RUWE</th><th>GAIAEDR3_IPD_GOF_HARMONIC_AMPLITUDE</th><th>GAIAEDR3_G_CORRECTED</th><th>GAIAEDR3_PARALLAX_CORRECTED</th><th>GAIAEDR3_PHOT_BP_RP_EXCESS_FACTOR_CORRECTED</th><th>GAIAEDR3_PARALLAX_PMRA_CORR</th><th>GAIAEDR3_PARALLAX_PMDEC_CORR</th><th>GAIAEDR3_PMRA_PMDEC_CORR</th><th>GAIAEDR3_RA_DEC_CORR</th><th>GAIAEDR3_RA_PARALLAX_CORR</th><th>GAIAEDR3_RA_PMRA_CORR</th><th>GAIAEDR3_RA_PMDEC_CORR</th><th>GAIAEDR3_DEC_PARALLAX_CORR</th><th>GAIAEDR3_DEC_PMRA_CORR</th><th>GAIAEDR3_DEC_PMDEC_CORR</th><th>WISE_CC_FLAGS</th><th>WISE_EXT_FLAG</th><th>ACAT_ID</th></tr></thead>\n",
       "<thead><tr><th>bytes32</th><th>bytes10</th><th>bytes84</th><th>float64</th><th>float64</th><th>bytes10</th><th>bytes3</th><th>bytes3</th><th>float64</th><th>float64</th><th>float64</th><th>int64</th><th>float64</th><th>float64</th><th>bytes6</th><th>int32</th><th>int32</th><th>bytes17</th><th>bytes19</th><th>bytes16</th><th>int64</th><th>int32</th><th>bytes8</th><th>float64</th><th>float64</th><th>bytes11</th><th>bytes12</th><th>float64</th><th>float64</th><th>float64</th><th>int16</th><th>int16</th><th>float64</th><th>int16</th><th>float64</th><th>float32</th><th>float32</th><th>float32</th><th>float32</th><th>float32</th><th>float32</th><th>float32</th><th>float32</th><th>float32</th><th>float32</th><th>float32</th><th>float32</th><th>float32</th><th>float32</th><th>float32</th><th>float32</th><th>float32</th><th>float32</th><th>float32</th><th>float32</th><th>float32</th><th>float32</th><th>float32</th><th>float32</th><th>float32</th><th>float32</th><th>float32</th><th>float32</th><th>float32</th><th>float32</th><th>float32</th><th>float32</th><th>float32</th><th>float32</th><th>float32</th><th>float32</th><th>float32</th><th>float32</th><th>float32</th><th>float32</th><th>float64</th><th>float64</th><th>float64</th><th>float64</th><th>float64</th><th>float64</th><th>float64</th><th>float64</th><th>float64</th><th>float64</th><th>float64</th><th>float64</th><th>float64</th><th>float64</th><th>int32</th><th>float64</th><th>float64</th><th>float64</th><th>float64</th><th>float64</th><th>float64</th><th>float64</th><th>float32</th><th>float32</th><th>float32</th><th>float32</th><th>float32</th><th>float32</th><th>float32</th><th>float32</th><th>float32</th><th>float32</th><th>bytes4</th><th>int32</th><th>int64</th></tr></thead>\n",
       "<tr><td>hip105439</td><td>2022_11_03</td><td>/n/holyscratch01/conroy_lab/vchandra/mage/data/reduced/v0/2022_11_03_hip105439.fits</td><td>320.34375</td><td>-51.75466666666667</td><td>hip105439</td><td>0.7</td><td>1,1</td><td>59886.99125</td><td>1.092</td><td>8.0</td><td>--</td><td>320.34879166666667</td><td>-51.75238888888889</td><td>rvs</td><td>0</td><td>0</td><td>0</td><td>3194m515_ac51-02352</td><td>3194m515o0009836</td><td>6466156006675164288</td><td>0</td><td>--</td><td>320.34741398330783</td><td>-51.753018970779344</td><td>--</td><td>--</td><td>345.9100053602641</td><td>-43.90076007078464</td><td>0.02026497572660446</td><td>0</td><td>0</td><td>0.0</td><td>0</td><td>0.0</td><td>99.0</td><td>99.0</td><td>99.0</td><td>99.0</td><td>99.0</td><td>99.0</td><td>99.0</td><td>99.0</td><td>99.0</td><td>99.0</td><td>0.0</td><td>0.0</td><td>0.0</td><td>5.19</td><td>4.996</td><td>99.0</td><td>99.0</td><td>6.60303</td><td>6.9216514</td><td>6.107777</td><td>99.0</td><td>99.0</td><td>99.0</td><td>99.0</td><td>99.0</td><td>99.0</td><td>99.0</td><td>99.0</td><td>99.0</td><td>99.0</td><td>0.0</td><td>0.0</td><td>0.0</td><td>0.151</td><td>0.073</td><td>99.0</td><td>99.0</td><td>0.00017947624</td><td>0.00046681555</td><td>0.0008502929</td><td>320.34741398330783</td><td>-51.753018970779344</td><td>0.016426845</td><td>0.014862936</td><td>20.876092147261506</td><td>0.023273878</td><td>896.9752</td><td>-124.08943627505982</td><td>-90.48897562736813</td><td>0.019078383</td><td>0.018487506</td><td>--</td><td>--</td><td>1.5615015</td><td>31</td><td>1.2049472</td><td>19.0</td><td>1.0700604</td><td>0.036316097</td><td>6.6029973</td><td>20.891141147261507</td><td>0.004152512165585209</td><td>-0.2496539</td><td>-0.09999999</td><td>-0.17888649</td><td>-0.1391118</td><td>0.11621793</td><td>0.03574583</td><td>-0.079597555</td><td>0.1481024</td><td>-0.08445492</td><td>-0.16036083</td><td>0h00</td><td>0</td><td>14</td></tr>\n",
       "<tr><td>hip66765</td><td>2022_08_05</td><td>/n/holyscratch01/conroy_lab/vchandra/mage/data/reduced/v0/2022_08_05_hip66765.fits</td><td>205.2679166666667</td><td>-34.467</td><td>hip66765</td><td>0.7</td><td>1,1</td><td>59796.96483796297</td><td>1.083</td><td>20.0</td><td>--</td><td>205.26674999999997</td><td>-34.463750000000005</td><td>rvs</td><td>0</td><td>0</td><td>0</td><td>0</td><td>2046m349o0025196</td><td>6164998500516764160</td><td>0</td><td>--</td><td>205.26848139045305</td><td>-34.46489583665526</td><td>--</td><td>--</td><td>314.4320470439794</td><td>27.29599379579415</td><td>0.05337309092283249</td><td>0</td><td>0</td><td>0.0</td><td>0</td><td>0.0</td><td>99.0</td><td>99.0</td><td>99.0</td><td>99.0</td><td>99.0</td><td>99.0</td><td>99.0</td><td>99.0</td><td>99.0</td><td>99.0</td><td>0.0</td><td>0.0</td><td>0.0</td><td>0.0</td><td>0.0</td><td>99.0</td><td>99.0</td><td>6.697714</td><td>7.1229377</td><td>6.100915</td><td>99.0</td><td>99.0</td><td>99.0</td><td>99.0</td><td>99.0</td><td>99.0</td><td>99.0</td><td>99.0</td><td>99.0</td><td>99.0</td><td>0.0</td><td>0.0</td><td>0.0</td><td>0.0</td><td>0.0</td><td>99.0</td><td>99.0</td><td>0.0005838772</td><td>0.0025901147</td><td>0.002039764</td><td>205.26848139045305</td><td>-34.46489583665526</td><td>0.02160646</td><td>0.03343605</td><td>63.7262550996456</td><td>0.029071746</td><td>2192.034</td><td>204.8161041710937</td><td>-166.3949257884322</td><td>0.028601563</td><td>0.043481775</td><td>--</td><td>--</td><td>1.512246</td><td>31</td><td>1.2194964</td><td>11.0</td><td>1.1208704</td><td>0.02045105</td><td>6.6976805</td><td>63.7466890996456</td><td>0.0005992318206746727</td><td>-0.30486277</td><td>0.44240066</td><td>-0.68692815</td><td>-0.54520214</td><td>-0.11765264</td><td>-0.025829462</td><td>0.027616465</td><td>-0.25967366</td><td>0.16622765</td><td>-0.22226074</td><td>0</td><td>0</td><td>42</td></tr>\n",
       "<tr><td>hip4148</td><td>2022_08_03</td><td>/n/holyscratch01/conroy_lab/vchandra/mage/data/reduced/v0/2022_08_03_hip4148.fits</td><td>13.25875</td><td>-30.35294444444445</td><td>hip4148</td><td>0.7</td><td>1,1</td><td>59795.43060185185</td><td>1.07</td><td>26.0</td><td>--</td><td>13.252999999999998</td><td>-30.357000000000003</td><td>rvs</td><td>0</td><td>0</td><td>0</td><td>0</td><td>0139m303o0011947</td><td>5031808453624044800</td><td>0</td><td>--</td><td>13.257923204654402</td><td>-30.356773021373208</td><td>--</td><td>--</td><td>296.8510801992904</td><td>-86.75264244941393</td><td>0.017761167138814926</td><td>0</td><td>0</td><td>0.0</td><td>0</td><td>0.0</td><td>99.0</td><td>99.0</td><td>99.0</td><td>99.0</td><td>99.0</td><td>99.0</td><td>99.0</td><td>99.0</td><td>99.0</td><td>99.0</td><td>0.0</td><td>0.0</td><td>0.0</td><td>0.0</td><td>0.0</td><td>99.0</td><td>99.0</td><td>6.8848944</td><td>7.3671927</td><td>6.2371173</td><td>99.0</td><td>99.0</td><td>99.0</td><td>99.0</td><td>99.0</td><td>99.0</td><td>99.0</td><td>99.0</td><td>99.0</td><td>99.0</td><td>0.0</td><td>0.0</td><td>0.0</td><td>0.0</td><td>0.0</td><td>99.0</td><td>99.0</td><td>0.00015367649</td><td>0.0005469348</td><td>0.000502955</td><td>13.257923204654402</td><td>-30.356773021373208</td><td>0.02104753</td><td>0.01662211</td><td>71.7258931472584</td><td>0.026664002</td><td>2689.9897</td><td>620.2427389277633</td><td>31.769563449685872</td><td>0.0230303</td><td>0.02391442</td><td>--</td><td>--</td><td>1.4900569</td><td>31</td><td>1.2294551</td><td>16.0</td><td>1.097513</td><td>0.015541321</td><td>6.884861</td><td>71.74068814725841</td><td>7.360980018611407e-05</td><td>0.05995327</td><td>-0.27979603</td><td>0.26068765</td><td>0.03911932</td><td>0.31850985</td><td>0.37321448</td><td>-0.15223213</td><td>-0.087659515</td><td>-0.021324992</td><td>0.41952226</td><td>0</td><td>0</td><td>51</td></tr>\n",
       "<tr><td>hip4148</td><td>2022_10_21</td><td>/n/holyscratch01/conroy_lab/vchandra/mage/data/reduced/v0/2022_10_21_hip4148.fits</td><td>13.2625</td><td>-30.35825</td><td>hip4148</td><td>0.7</td><td>1,1</td><td>59873.98164351852</td><td>1.61</td><td>5.0</td><td>--</td><td>13.252999999999998</td><td>-30.357000000000003</td><td>rvs</td><td>0</td><td>0</td><td>0</td><td>0</td><td>0139m303o0011947</td><td>5031808453624044800</td><td>0</td><td>--</td><td>13.257923204654402</td><td>-30.356773021373208</td><td>--</td><td>--</td><td>296.8510801992904</td><td>-86.75264244941393</td><td>0.017761167138814926</td><td>0</td><td>0</td><td>0.0</td><td>0</td><td>0.0</td><td>99.0</td><td>99.0</td><td>99.0</td><td>99.0</td><td>99.0</td><td>99.0</td><td>99.0</td><td>99.0</td><td>99.0</td><td>99.0</td><td>0.0</td><td>0.0</td><td>0.0</td><td>0.0</td><td>0.0</td><td>99.0</td><td>99.0</td><td>6.8848944</td><td>7.3671927</td><td>6.2371173</td><td>99.0</td><td>99.0</td><td>99.0</td><td>99.0</td><td>99.0</td><td>99.0</td><td>99.0</td><td>99.0</td><td>99.0</td><td>99.0</td><td>0.0</td><td>0.0</td><td>0.0</td><td>0.0</td><td>0.0</td><td>99.0</td><td>99.0</td><td>0.00015367649</td><td>0.0005469348</td><td>0.000502955</td><td>13.257923204654402</td><td>-30.356773021373208</td><td>0.02104753</td><td>0.01662211</td><td>71.7258931472584</td><td>0.026664002</td><td>2689.9897</td><td>620.2427389277633</td><td>31.769563449685872</td><td>0.0230303</td><td>0.02391442</td><td>--</td><td>--</td><td>1.4900569</td><td>31</td><td>1.2294551</td><td>16.0</td><td>1.097513</td><td>0.015541321</td><td>6.884861</td><td>71.74068814725841</td><td>7.360980018611407e-05</td><td>0.05995327</td><td>-0.27979603</td><td>0.26068765</td><td>0.03911932</td><td>0.31850985</td><td>0.37321448</td><td>-0.15223213</td><td>-0.087659515</td><td>-0.021324992</td><td>0.41952226</td><td>0</td><td>0</td><td>52</td></tr>\n",
       "<tr><td>hip4148</td><td>2022_08_24</td><td>/n/holyscratch01/conroy_lab/vchandra/mage/data/reduced/v0/2022_08_24_hip4148.fits</td><td>13.25041666666666</td><td>-30.35072222222222</td><td>hip4148</td><td>0.7</td><td>1,1</td><td>59816.41583333333</td><td>1.207</td><td>20.0</td><td>--</td><td>13.252999999999998</td><td>-30.357000000000003</td><td>rvs</td><td>0</td><td>0</td><td>0</td><td>0</td><td>0139m303o0011947</td><td>5031808453624044800</td><td>0</td><td>--</td><td>13.257923204654402</td><td>-30.356773021373208</td><td>--</td><td>--</td><td>296.8510801992904</td><td>-86.75264244941393</td><td>0.017761167138814926</td><td>0</td><td>0</td><td>0.0</td><td>0</td><td>0.0</td><td>99.0</td><td>99.0</td><td>99.0</td><td>99.0</td><td>99.0</td><td>99.0</td><td>99.0</td><td>99.0</td><td>99.0</td><td>99.0</td><td>0.0</td><td>0.0</td><td>0.0</td><td>0.0</td><td>0.0</td><td>99.0</td><td>99.0</td><td>6.8848944</td><td>7.3671927</td><td>6.2371173</td><td>99.0</td><td>99.0</td><td>99.0</td><td>99.0</td><td>99.0</td><td>99.0</td><td>99.0</td><td>99.0</td><td>99.0</td><td>99.0</td><td>0.0</td><td>0.0</td><td>0.0</td><td>0.0</td><td>0.0</td><td>99.0</td><td>99.0</td><td>0.00015367649</td><td>0.0005469348</td><td>0.000502955</td><td>13.257923204654402</td><td>-30.356773021373208</td><td>0.02104753</td><td>0.01662211</td><td>71.7258931472584</td><td>0.026664002</td><td>2689.9897</td><td>620.2427389277633</td><td>31.769563449685872</td><td>0.0230303</td><td>0.02391442</td><td>--</td><td>--</td><td>1.4900569</td><td>31</td><td>1.2294551</td><td>16.0</td><td>1.097513</td><td>0.015541321</td><td>6.884861</td><td>71.74068814725841</td><td>7.360980018611407e-05</td><td>0.05995327</td><td>-0.27979603</td><td>0.26068765</td><td>0.03911932</td><td>0.31850985</td><td>0.37321448</td><td>-0.15223213</td><td>-0.087659515</td><td>-0.021324992</td><td>0.41952226</td><td>0</td><td>0</td><td>53</td></tr>\n",
       "<tr><td>hip4148</td><td>2022_08_04</td><td>/n/holyscratch01/conroy_lab/vchandra/mage/data/reduced/v0/2022_08_04_hip4148.fits</td><td>13.25916666666667</td><td>-30.35625</td><td>hip4148</td><td>0.7</td><td>1,1</td><td>59796.42673611111</td><td>1.068</td><td>28.0</td><td>--</td><td>13.252999999999998</td><td>-30.357000000000003</td><td>rvs</td><td>0</td><td>0</td><td>0</td><td>0</td><td>0139m303o0011947</td><td>5031808453624044800</td><td>0</td><td>--</td><td>13.257923204654402</td><td>-30.356773021373208</td><td>--</td><td>--</td><td>296.8510801992904</td><td>-86.75264244941393</td><td>0.017761167138814926</td><td>0</td><td>0</td><td>0.0</td><td>0</td><td>0.0</td><td>99.0</td><td>99.0</td><td>99.0</td><td>99.0</td><td>99.0</td><td>99.0</td><td>99.0</td><td>99.0</td><td>99.0</td><td>99.0</td><td>0.0</td><td>0.0</td><td>0.0</td><td>0.0</td><td>0.0</td><td>99.0</td><td>99.0</td><td>6.8848944</td><td>7.3671927</td><td>6.2371173</td><td>99.0</td><td>99.0</td><td>99.0</td><td>99.0</td><td>99.0</td><td>99.0</td><td>99.0</td><td>99.0</td><td>99.0</td><td>99.0</td><td>0.0</td><td>0.0</td><td>0.0</td><td>0.0</td><td>0.0</td><td>99.0</td><td>99.0</td><td>0.00015367649</td><td>0.0005469348</td><td>0.000502955</td><td>13.257923204654402</td><td>-30.356773021373208</td><td>0.02104753</td><td>0.01662211</td><td>71.7258931472584</td><td>0.026664002</td><td>2689.9897</td><td>620.2427389277633</td><td>31.769563449685872</td><td>0.0230303</td><td>0.02391442</td><td>--</td><td>--</td><td>1.4900569</td><td>31</td><td>1.2294551</td><td>16.0</td><td>1.097513</td><td>0.015541321</td><td>6.884861</td><td>71.74068814725841</td><td>7.360980018611407e-05</td><td>0.05995327</td><td>-0.27979603</td><td>0.26068765</td><td>0.03911932</td><td>0.31850985</td><td>0.37321448</td><td>-0.15223213</td><td>-0.087659515</td><td>-0.021324992</td><td>0.41952226</td><td>0</td><td>0</td><td>54</td></tr>\n",
       "</table></div>"
      ],
      "text/plain": [
       "<Table length=6>\n",
       "   name      date    ... WISE_EXT_FLAG ACAT_ID\n",
       " bytes32   bytes10   ...     int32      int64 \n",
       "--------- ---------- ... ------------- -------\n",
       "hip105439 2022_11_03 ...             0      14\n",
       " hip66765 2022_08_05 ...             0      42\n",
       "  hip4148 2022_08_03 ...             0      51\n",
       "  hip4148 2022_10_21 ...             0      52\n",
       "  hip4148 2022_08_24 ...             0      53\n",
       "  hip4148 2022_08_04 ...             0      54"
      ]
     },
     "execution_count": 9,
     "metadata": {},
     "output_type": "execute_result"
    }
   ],
   "source": [
    "rvs"
   ]
  },
  {
   "cell_type": "code",
   "execution_count": null,
   "id": "ea0b8669-3c62-45e0-83e2-1a7dc165e629",
   "metadata": {},
   "outputs": [],
   "source": []
  }
 ],
 "metadata": {
  "kernelspec": {
   "display_name": "Python [conda env:.conda-outerhalo]",
   "language": "python",
   "name": "conda-env-.conda-outerhalo-py"
  },
  "language_info": {
   "codemirror_mode": {
    "name": "ipython",
    "version": 3
   },
   "file_extension": ".py",
   "mimetype": "text/x-python",
   "name": "python",
   "nbconvert_exporter": "python",
   "pygments_lexer": "ipython3",
   "version": "3.8.12"
  }
 },
 "nbformat": 4,
 "nbformat_minor": 5
}
